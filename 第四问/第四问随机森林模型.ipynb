{
 "cells": [
  {
   "cell_type": "code",
   "execution_count": null,
   "metadata": {},
   "outputs": [],
   "source": [
    "import pandas as pd\n",
    "import numpy as np\n",
    "from sklearn.preprocessing import MinMaxScaler"
   ]
  },
  {
   "cell_type": "code",
   "execution_count": null,
   "metadata": {},
   "outputs": [],
   "source": [
    "# 读取数据\n",
    "data = pd.read_excel(\"no_error.xlsx\")\n",
    "\n",
    "# 提取睡眠质量指标并进行归一化\n",
    "sleep_quality = data[[\"整晚睡眠时间\", \"睡醒次数\", \"入睡方式\"]]\n",
    "scaler = MinMaxScaler()\n",
    "scaled_sleep_quality = scaler.fit_transform(sleep_quality)"
   ]
  },
  {
   "cell_type": "code",
   "execution_count": null,
   "metadata": {},
   "outputs": [],
   "source": [
    "# 熵权法计算指标权重\n",
    "def entropy_weight(data):\n",
    "    # 为每个指标的取值范围加上微小值\n",
    "    data = data + 0.001\n",
    "    # 计算熵\n",
    "    p = data / data.sum()\n",
    "    log_p = np.log(p)\n",
    "    e = -(p * log_p).sum()\n",
    "    # 计算权重\n",
    "    w = (1 - e) / (3 - e)\n",
    "    return w"
   ]
  },
  {
   "cell_type": "code",
   "execution_count": null,
   "metadata": {},
   "outputs": [],
   "source": [
    "weights0 = entropy_weight(scaled_sleep_quality[:,0])\n",
    "weights1 = entropy_weight(scaled_sleep_quality[:,1])\n",
    "weights2 = entropy_weight(scaled_sleep_quality[:,2])"
   ]
  },
  {
   "cell_type": "code",
   "execution_count": null,
   "metadata": {},
   "outputs": [],
   "source": [
    "# 计算综合睡眠质量得分\n",
    "# 睡眠时间越长越好\n",
    "scaled_sleep_time_score = weights1 * scaled_sleep_quality[:, 0]\n",
    "# 入睡方式越大越好\n",
    "scaled_sleep_way_score = weights0 * scaled_sleep_quality[:, 2]\n",
    "# 睡醒次数越少越好\n",
    "scaled_wakeup_score = weights2 * (1 - scaled_sleep_quality[:, 1])"
   ]
  },
  {
   "cell_type": "code",
   "execution_count": null,
   "metadata": {},
   "outputs": [],
   "source": [
    "# 计算相似度得分\n",
    "similarity_score = scaled_sleep_time_score + scaled_sleep_way_score + scaled_wakeup_score\n",
    "\n",
    "# 归一化相似度得分\n",
    "normalized_similarity_score = (similarity_score - similarity_score.min()) / (similarity_score.max() - similarity_score.min())\n",
    "\n",
    "# 添加综合睡眠质量列\n",
    "data[\"综合睡眠质量\"] = pd.cut(normalized_similarity_score, bins=[-0.001, 0.45, 0.60, 0.75, 1], labels=[\"差\", \"中\", \"良\", \"优\"])\n",
    "\n",
    "# 输出结果\n",
    "print(data[[\"编号\", \"综合睡眠质量\"]])"
   ]
  },
  {
   "cell_type": "code",
   "execution_count": null,
   "metadata": {},
   "outputs": [],
   "source": [
    "from sklearn.ensemble import RandomForestClassifier\n",
    "from sklearn.model_selection import train_test_split\n",
    "from sklearn.metrics import classification_report, accuracy_score\n",
    "\n",
    "# 读取数据\n",
    "data1 = pd.read_excel(\"no_error.xlsx\")\n",
    "\n",
    "# 提取特征和标签\n",
    "X = data1[[\"母亲年龄\", \"婚姻状况\", \"教育程度\", \"妊娠时间\", \"分娩方式\", \"CBTS\", \"EPDS\", \"HADS\"]]\n",
    "#X = data1[[\"母亲年龄\",\"教育程度\", \"分娩方式\", \"CBTS\", \"EPDS\", \"HADS\"]]\n",
    "y = data[\"综合睡眠质量\"]\n",
    "\n",
    "# 划分训练集和测试集\n",
    "X_train, X_test, y_train, y_test = train_test_split(X, y, test_size=0.2, random_state=42)"
   ]
  },
  {
   "cell_type": "code",
   "execution_count": null,
   "metadata": {},
   "outputs": [],
   "source": [
    "# 建立随机森林模型\n",
    "rf_model = RandomForestClassifier(max_depth=1,n_estimators=300, random_state=42)\n",
    "\n",
    "# 训练模型\n",
    "rf_model.fit(X_train, y_train)\n",
    "\n",
    "# 在测试集上进行预测\n",
    "y_pred = rf_model.predict(X_test)\n",
    "\n",
    "# 评估模型性能\n",
    "print(\"Accuracy:\", accuracy_score(y_test, y_pred))\n",
    "print(classification_report(y_test, y_pred))"
   ]
  }
 ],
 "metadata": {
  "language_info": {
   "name": "python"
  },
  "orig_nbformat": 4
 },
 "nbformat": 4,
 "nbformat_minor": 2
}
